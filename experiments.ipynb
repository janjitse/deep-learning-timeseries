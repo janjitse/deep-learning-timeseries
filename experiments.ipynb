{
 "cells": [
  {
   "cell_type": "code",
   "execution_count": 1,
   "metadata": {},
   "outputs": [],
   "source": [
    "import tensorflow as tf\n",
    "import numpy as np"
   ]
  },
  {
   "cell_type": "code",
   "execution_count": 2,
   "metadata": {},
   "outputs": [],
   "source": [
    "import utils"
   ]
  },
  {
   "cell_type": "code",
   "execution_count": 3,
   "metadata": {},
   "outputs": [],
   "source": [
    "SAMPLING_RATE = 6\n",
    "SEQUENCE_LENGTH = 120\n",
    "DELAY = SAMPLING_RATE * (SEQUENCE_LENGTH + 24 - 1)\n",
    "BATCH_SIZE = 256"
   ]
  },
  {
   "cell_type": "code",
   "execution_count": 4,
   "metadata": {},
   "outputs": [],
   "source": [
    "temperature, raw_data = utils.load_data()\n",
    "num_train_samples = int(0.5 * len(raw_data))\n"
   ]
  },
  {
   "cell_type": "code",
   "execution_count": 5,
   "metadata": {},
   "outputs": [],
   "source": [
    "normalized_data, mean, std = utils.normalize_data(raw_data, num_train_samples)\n"
   ]
  },
  {
   "cell_type": "code",
   "execution_count": 6,
   "metadata": {},
   "outputs": [
    {
     "name": "stderr",
     "output_type": "stream",
     "text": [
      "2022-06-08 22:34:01.093062: I tensorflow/stream_executor/cuda/cuda_gpu_executor.cc:975] successful NUMA node read from SysFS had negative value (-1), but there must be at least one NUMA node, so returning NUMA node zero\n",
      "2022-06-08 22:34:01.117951: I tensorflow/stream_executor/cuda/cuda_gpu_executor.cc:975] successful NUMA node read from SysFS had negative value (-1), but there must be at least one NUMA node, so returning NUMA node zero\n",
      "2022-06-08 22:34:01.118104: I tensorflow/stream_executor/cuda/cuda_gpu_executor.cc:975] successful NUMA node read from SysFS had negative value (-1), but there must be at least one NUMA node, so returning NUMA node zero\n",
      "2022-06-08 22:34:01.118692: I tensorflow/core/platform/cpu_feature_guard.cc:193] This TensorFlow binary is optimized with oneAPI Deep Neural Network Library (oneDNN) to use the following CPU instructions in performance-critical operations:  AVX2 FMA\n",
      "To enable them in other operations, rebuild TensorFlow with the appropriate compiler flags.\n",
      "2022-06-08 22:34:01.120453: I tensorflow/stream_executor/cuda/cuda_gpu_executor.cc:975] successful NUMA node read from SysFS had negative value (-1), but there must be at least one NUMA node, so returning NUMA node zero\n",
      "2022-06-08 22:34:01.120591: I tensorflow/stream_executor/cuda/cuda_gpu_executor.cc:975] successful NUMA node read from SysFS had negative value (-1), but there must be at least one NUMA node, so returning NUMA node zero\n",
      "2022-06-08 22:34:01.120689: I tensorflow/stream_executor/cuda/cuda_gpu_executor.cc:975] successful NUMA node read from SysFS had negative value (-1), but there must be at least one NUMA node, so returning NUMA node zero\n",
      "2022-06-08 22:34:01.406412: I tensorflow/stream_executor/cuda/cuda_gpu_executor.cc:975] successful NUMA node read from SysFS had negative value (-1), but there must be at least one NUMA node, so returning NUMA node zero\n",
      "2022-06-08 22:34:01.406545: I tensorflow/stream_executor/cuda/cuda_gpu_executor.cc:975] successful NUMA node read from SysFS had negative value (-1), but there must be at least one NUMA node, so returning NUMA node zero\n",
      "2022-06-08 22:34:01.406647: I tensorflow/stream_executor/cuda/cuda_gpu_executor.cc:975] successful NUMA node read from SysFS had negative value (-1), but there must be at least one NUMA node, so returning NUMA node zero\n",
      "2022-06-08 22:34:01.406736: I tensorflow/core/common_runtime/gpu/gpu_device.cc:1532] Created device /job:localhost/replica:0/task:0/device:GPU:0 with 21195 MB memory:  -> device: 0, name: NVIDIA GeForce RTX 3090, pci bus id: 0000:09:00.0, compute capability: 8.6\n"
     ]
    }
   ],
   "source": [
    "train_dataset, val_dataset, test_dataset = utils.split_data_keras(normalized_data, temperature, sampling_rate = 6, sequence_length=120, batch_size=256)"
   ]
  },
  {
   "cell_type": "markdown",
   "metadata": {},
   "source": [
    "Notes:\n",
    "- raw_data -= mean doesn't seem to work?\n",
    "- why does evaluate_naive_method doesn't give the correct numbers (around 2.9)?"
   ]
  },
  {
   "cell_type": "code",
   "execution_count": 7,
   "metadata": {},
   "outputs": [
    {
     "data": {
      "text/plain": [
       "2.442540749679173"
      ]
     },
     "execution_count": 7,
     "metadata": {},
     "output_type": "execute_result"
    }
   ],
   "source": [
    "utils.evaluate_naive_method(val_dataset, mean=mean, std=std)"
   ]
  },
  {
   "cell_type": "code",
   "execution_count": 8,
   "metadata": {},
   "outputs": [
    {
     "data": {
      "text/plain": [
       "2.6207366601649253"
      ]
     },
     "execution_count": 8,
     "metadata": {},
     "output_type": "execute_result"
    }
   ],
   "source": [
    "utils.evaluate_naive_method(test_dataset, mean=mean, std=std)"
   ]
  },
  {
   "cell_type": "code",
   "execution_count": 9,
   "metadata": {},
   "outputs": [],
   "source": [
    "from tensorflow import keras\n",
    "from tensorflow.keras import layers\n",
    "# keras.mixed_precision.set_global_policy(\"mixed_float16\")"
   ]
  },
  {
   "cell_type": "code",
   "execution_count": 10,
   "metadata": {},
   "outputs": [],
   "source": [
    "inputs = keras.Input(shape=(SEQUENCE_LENGTH, raw_data.shape[-1]))\n",
    "x = layers.SeparableConv1D(16, 24, activation=\"relu\", padding=\"same\")(inputs)\n",
    "# x = layers.Dropout(0.5)(x)\n",
    "x = layers.MaxPooling1D(2)(x)\n",
    "x = layers.LayerNormalization()(x)\n",
    "x = layers.SeparableConv1D(32, 12, activation=\"relu\", padding=\"same\")(x)\n",
    "x = layers.MaxPooling1D(2)(x)\n",
    "x = layers.LayerNormalization()(x)\n",
    "x = layers.SeparableConv1D(64, 6, activation=\"relu\", padding=\"same\")(x)\n",
    "x = layers.GlobalAveragePooling1D()(x)\n",
    "outputs = layers.Dense(1)(x)\n",
    "model = keras.Model(inputs, outputs)"
   ]
  },
  {
   "cell_type": "code",
   "execution_count": 11,
   "metadata": {},
   "outputs": [],
   "source": [
    "def smape(y_true, y_pred):\n",
    "    raw = tf.math.reduce_mean(tf.math.abs(y_true - y_pred) / (tf.math.abs(y_true) + tf.math.abs(y_pred)))\n",
    "    return 100*(1-raw)"
   ]
  },
  {
   "cell_type": "code",
   "execution_count": 13,
   "metadata": {},
   "outputs": [
    {
     "name": "stdout",
     "output_type": "stream",
     "text": [
      "Model: \"model\"\n",
      "_________________________________________________________________\n",
      " Layer (type)                Output Shape              Param #   \n",
      "=================================================================\n",
      " input_1 (InputLayer)        [(None, 120, 14)]         0         \n",
      "                                                                 \n",
      " separable_conv1d (Separable  (None, 120, 16)          576       \n",
      " Conv1D)                                                         \n",
      "                                                                 \n",
      " max_pooling1d (MaxPooling1D  (None, 60, 16)           0         \n",
      " )                                                               \n",
      "                                                                 \n",
      " layer_normalization (LayerN  (None, 60, 16)           32        \n",
      " ormalization)                                                   \n",
      "                                                                 \n",
      " separable_conv1d_1 (Separab  (None, 60, 32)           736       \n",
      " leConv1D)                                                       \n",
      "                                                                 \n",
      " max_pooling1d_1 (MaxPooling  (None, 30, 32)           0         \n",
      " 1D)                                                             \n",
      "                                                                 \n",
      " layer_normalization_1 (Laye  (None, 30, 32)           64        \n",
      " rNormalization)                                                 \n",
      "                                                                 \n",
      " separable_conv1d_2 (Separab  (None, 30, 64)           2304      \n",
      " leConv1D)                                                       \n",
      "                                                                 \n",
      " global_average_pooling1d (G  (None, 64)               0         \n",
      " lobalAveragePooling1D)                                          \n",
      "                                                                 \n",
      " dense (Dense)               (None, 1)                 65        \n",
      "                                                                 \n",
      "=================================================================\n",
      "Total params: 3,777\n",
      "Trainable params: 3,777\n",
      "Non-trainable params: 0\n",
      "_________________________________________________________________\n",
      "None\n"
     ]
    }
   ],
   "source": [
    "model.compile(optimizer=\"adam\", loss=\"mse\", metrics=[\"mae\", smape])\n",
    "print(model.summary())"
   ]
  },
  {
   "cell_type": "code",
   "execution_count": 34,
   "metadata": {},
   "outputs": [
    {
     "name": "stdout",
     "output_type": "stream",
     "text": [
      "Epoch 1/10\n",
      "819/819 [==============================] - 8s 9ms/step - loss: 24.2865 - mae: 3.6012 - smape: 69.7476 - val_loss: 12.3399 - val_mae: 2.7702 - val_smape: 76.5034\n",
      "Epoch 2/10\n",
      "819/819 [==============================] - 7s 9ms/step - loss: 11.0063 - mae: 2.6056 - smape: 76.6469 - val_loss: 11.5642 - val_mae: 2.6717 - val_smape: 76.6950\n",
      "Epoch 3/10\n",
      "819/819 [==============================] - 7s 9ms/step - loss: 9.6647 - mae: 2.4346 - smape: 77.7559 - val_loss: 10.9327 - val_mae: 2.5920 - val_smape: 77.3492\n",
      "Epoch 4/10\n",
      "819/819 [==============================] - 7s 9ms/step - loss: 8.9344 - mae: 2.3412 - smape: 78.4955 - val_loss: 11.2452 - val_mae: 2.6331 - val_smape: 77.3947\n",
      "Epoch 5/10\n",
      "819/819 [==============================] - 7s 9ms/step - loss: 8.2914 - mae: 2.2591 - smape: 79.1106 - val_loss: 11.6973 - val_mae: 2.6789 - val_smape: 77.1912\n",
      "Epoch 6/10\n",
      "819/819 [==============================] - 7s 9ms/step - loss: 7.9002 - mae: 2.2094 - smape: 79.4650 - val_loss: 12.2547 - val_mae: 2.7515 - val_smape: 76.7581\n",
      "Epoch 7/10\n",
      "819/819 [==============================] - 7s 9ms/step - loss: 7.5713 - mae: 2.1645 - smape: 79.7801 - val_loss: 11.5641 - val_mae: 2.6885 - val_smape: 76.5558\n",
      "Epoch 8/10\n",
      "819/819 [==============================] - 7s 9ms/step - loss: 7.3102 - mae: 2.1272 - smape: 80.0744 - val_loss: 12.2001 - val_mae: 2.7665 - val_smape: 76.8773\n",
      "Epoch 9/10\n",
      "819/819 [==============================] - 7s 9ms/step - loss: 7.0491 - mae: 2.0905 - smape: 80.3401 - val_loss: 11.6704 - val_mae: 2.7112 - val_smape: 76.5780\n",
      "Epoch 10/10\n",
      "819/819 [==============================] - 7s 9ms/step - loss: 6.8260 - mae: 2.0560 - smape: 80.6214 - val_loss: 11.9530 - val_mae: 2.7504 - val_smape: 76.3561\n"
     ]
    }
   ],
   "source": [
    "callbacks = [keras.callbacks.ModelCheckpoint(\"jena_dense.keras\", save_best_only=True, monitor=\"val_mae\", mode=\"min\",custom_objects=smape)]\n",
    "history = model.fit(\n",
    "    train_dataset, epochs=10, validation_data=val_dataset, callbacks=callbacks\n",
    ")"
   ]
  },
  {
   "cell_type": "code",
   "execution_count": 14,
   "metadata": {},
   "outputs": [],
   "source": [
    "inputs = keras.Input(shape=(SEQUENCE_LENGTH, raw_data.shape[-1]))\n",
    "x = layers.LSTM(16, return_sequences=True, recurrent_dropout=0)(inputs)\n",
    "x = layers.LSTM(16, recurrent_dropout=0)(x)\n",
    "x = layers.Dropout(0.5)(x)\n",
    "x = layers.Dense(16)(x)\n",
    "outputs = layers.Dense(1)(x)\n",
    "model = keras.Model(inputs, outputs)\n",
    "\n",
    "callbacks = [keras.callbacks.ModelCheckpoint(\"jena_lstm.keras\", save_best_only=True, monitor=\"val_mae\", mode=\"min\", custom_objects=smape)]\n",
    "\n",
    "model.compile(optimizer=\"adam\", loss=\"mse\", metrics=[\"mae\",smape])"
   ]
  },
  {
   "cell_type": "code",
   "execution_count": 29,
   "metadata": {},
   "outputs": [
    {
     "name": "stdout",
     "output_type": "stream",
     "text": [
      "Epoch 1/10\n",
      "819/819 [==============================] - 15s 15ms/step - loss: 30.1994 - mae: 4.0401 - smape: 67.8744 - val_loss: 9.5929 - val_mae: 2.4073 - val_smape: 78.7225\n",
      "Epoch 2/10\n",
      "819/819 [==============================] - 12s 15ms/step - loss: 15.4190 - mae: 3.0302 - smape: 75.1484 - val_loss: 8.9160 - val_mae: 2.3268 - val_smape: 79.4079\n",
      "Epoch 3/10\n",
      "819/819 [==============================] - 12s 15ms/step - loss: 13.5085 - mae: 2.8418 - smape: 75.8680 - val_loss: 9.3811 - val_mae: 2.3846 - val_smape: 79.2599\n",
      "Epoch 4/10\n",
      "819/819 [==============================] - 12s 14ms/step - loss: 12.7966 - mae: 2.7724 - smape: 76.0412 - val_loss: 9.6849 - val_mae: 2.4328 - val_smape: 79.0102\n",
      "Epoch 5/10\n",
      "819/819 [==============================] - 12s 14ms/step - loss: 12.4396 - mae: 2.7275 - smape: 76.2568 - val_loss: 9.3604 - val_mae: 2.3824 - val_smape: 79.3701\n",
      "Epoch 6/10\n",
      "819/819 [==============================] - 12s 15ms/step - loss: 12.1643 - mae: 2.6962 - smape: 76.4019 - val_loss: 9.7844 - val_mae: 2.4453 - val_smape: 78.7278\n",
      "Epoch 7/10\n",
      "819/819 [==============================] - 12s 15ms/step - loss: 11.8831 - mae: 2.6612 - smape: 76.5727 - val_loss: 11.2846 - val_mae: 2.6083 - val_smape: 78.1064\n",
      "Epoch 8/10\n",
      "819/819 [==============================] - 12s 14ms/step - loss: 11.6514 - mae: 2.6298 - smape: 76.7381 - val_loss: 11.1526 - val_mae: 2.5811 - val_smape: 77.8989\n",
      "Epoch 9/10\n",
      "819/819 [==============================] - 12s 14ms/step - loss: 11.4737 - mae: 2.6033 - smape: 76.9161 - val_loss: 12.2152 - val_mae: 2.6615 - val_smape: 77.6967\n",
      "Epoch 10/10\n",
      "819/819 [==============================] - 12s 14ms/step - loss: 11.3144 - mae: 2.5828 - smape: 77.0661 - val_loss: 13.0498 - val_mae: 2.7307 - val_smape: 77.5062\n"
     ]
    }
   ],
   "source": [
    "history = model.fit(train_dataset, epochs=10, validation_data = val_dataset, callbacks=callbacks)"
   ]
  },
  {
   "cell_type": "code",
   "execution_count": 12,
   "metadata": {},
   "outputs": [],
   "source": [
    "import matplotlib.pyplot as plt"
   ]
  },
  {
   "cell_type": "code",
   "execution_count": 30,
   "metadata": {},
   "outputs": [
    {
     "name": "stdout",
     "output_type": "stream",
     "text": [
      "408/408 [==============================] - 3s 5ms/step\n"
     ]
    }
   ],
   "source": [
    "model = keras.models.load_model('jena_lstm.keras', custom_objects={\"smape\":smape})\n",
    "preds = model.predict(val_dataset)\n",
    "val_targets = []\n",
    "for _, targets in val_dataset:\n",
    "    val_targets.append(targets)\n",
    "val_targets = np.concatenate(val_targets)"
   ]
  },
  {
   "cell_type": "code",
   "execution_count": 21,
   "metadata": {},
   "outputs": [
    {
     "ename": "ValueError",
     "evalue": "zero-dimensional arrays cannot be concatenated",
     "output_type": "error",
     "traceback": [
      "\u001b[0;31m---------------------------------------------------------------------------\u001b[0m",
      "\u001b[0;31mValueError\u001b[0m                                Traceback (most recent call last)",
      "\u001b[1;32m/home/fca/Programming/deep-learning-timeseries/experiments.ipynb Cell 19'\u001b[0m in \u001b[0;36m<cell line: 1>\u001b[0;34m()\u001b[0m\n\u001b[0;32m----> <a href='vscode-notebook-cell:/home/fca/Programming/deep-learning-timeseries/experiments.ipynb#ch0000023?line=0'>1</a>\u001b[0m val_targets \u001b[39m=\u001b[39m np\u001b[39m.\u001b[39;49mconcatenate(val_targets)\n",
      "File \u001b[0;32m<__array_function__ internals>:180\u001b[0m, in \u001b[0;36mconcatenate\u001b[0;34m(*args, **kwargs)\u001b[0m\n",
      "\u001b[0;31mValueError\u001b[0m: zero-dimensional arrays cannot be concatenated"
     ]
    }
   ],
   "source": [
    "val_targets = np.concatenate(val_targets)"
   ]
  },
  {
   "cell_type": "code",
   "execution_count": 31,
   "metadata": {},
   "outputs": [
    {
     "data": {
      "text/plain": [
       "[<matplotlib.lines.Line2D at 0x7f5838490250>]"
      ]
     },
     "execution_count": 31,
     "metadata": {},
     "output_type": "execute_result"
    },
    {
     "data": {
      "image/png": "[encoded data removed]",
      "text/plain": [
       "<Figure size 432x288 with 1 Axes>"
      ]
     },
     "metadata": {
      "needs_background": "light"
     },
     "output_type": "display_data"
    }
   ],
   "source": [
    "fig, ax = plt.subplots()\n",
    "ax.plot(preds)\n",
    "ax.plot(val_targets)\n",
    "ax.plot(preds.ravel() - val_targets)"
   ]
  },
  {
   "cell_type": "code",
   "execution_count": 29,
   "metadata": {},
   "outputs": [
    {
     "data": {
      "text/plain": [
       "<BatchDataset element_spec=(TensorSpec(shape=(None, None, 14), dtype=tf.float64, name=None), TensorSpec(shape=(None,), dtype=tf.float64, name=None))>"
      ]
     },
     "execution_count": 29,
     "metadata": {},
     "output_type": "execute_result"
    }
   ],
   "source": [
    "val_dataset"
   ]
  },
  {
   "cell_type": "code",
   "execution_count": 13,
   "metadata": {},
   "outputs": [],
   "source": [
    "class PositionalEmbedding(layers.Layer):\n",
    "    def __init__(self, sequence_length, input_dim, output_dim, **kwargs):\n",
    "        super().__init__(**kwargs)\n",
    "        self.position_embeddings = layers.Embedding(\n",
    "            input_dim=sequence_length,\n",
    "            output_dim = output_dim,\n",
    "        )\n",
    "        self.sequence_length = sequence_length\n",
    "        self.input_dim = input_dim\n",
    "        self.output_dim = output_dim\n",
    "    \n",
    "    def get_config(self):\n",
    "        config = super().get_config()\n",
    "        config.update({\n",
    "            \"output_dim\": self.output_dim,\n",
    "            \"input_dim\": self.input_dim,\n",
    "            \"sequence_length\": self.sequence_length\n",
    "        })\n",
    "        return config\n",
    "\n",
    "    def call(self, inputs):\n",
    "        length = self.sequence_length\n",
    "        positions = tf.range(length)\n",
    "        embedded_positions = self.position_embeddings(positions)\n",
    "        return inputs + embedded_positions"
   ]
  },
  {
   "cell_type": "code",
   "execution_count": 39,
   "metadata": {},
   "outputs": [],
   "source": [
    "inputs = keras.Input(shape=(SEQUENCE_LENGTH, raw_data.shape[-1]))\n",
    "# x = inputs\n",
    "x = PositionalEmbedding(SEQUENCE_LENGTH, raw_data.shape[-1], raw_data.shape[-1])(inputs)\n",
    "x = layers.MultiHeadAttention(num_heads = 4,key_dim=14)(x,x,x)\n",
    "x = layers.Flatten()(x)\n",
    "x = layers.Dense(32,activation=\"relu\")(x)\n",
    "outputs = layers.Dense(1)(x)\n",
    "model = keras.Model(inputs, outputs)\n",
    "\n",
    "callbacks = [keras.callbacks.ModelCheckpoint(\"jena_attention.keras\", save_best_only=True, monitor=\"val_mae\", mode=\"min\", custom_objects=smape)]\n",
    "\n",
    "model.compile(optimizer=\"adam\", loss=\"mse\", metrics=[\"mae\",smape])"
   ]
  },
  {
   "cell_type": "code",
   "execution_count": 40,
   "metadata": {},
   "outputs": [
    {
     "name": "stdout",
     "output_type": "stream",
     "text": [
      "Epoch 1/5\n",
      "819/819 [==============================] - 7s 8ms/step - loss: 14.6511 - mae: 2.9185 - smape: 73.8451 - val_loss: 10.4274 - val_mae: 2.5233 - val_smape: 77.5735\n",
      "Epoch 2/5\n",
      "819/819 [==============================] - 6s 8ms/step - loss: 8.4769 - mae: 2.2944 - smape: 78.8371 - val_loss: 11.5768 - val_mae: 2.6480 - val_smape: 77.1074\n",
      "Epoch 3/5\n",
      "819/819 [==============================] - 6s 8ms/step - loss: 7.2669 - mae: 2.1266 - smape: 79.8814 - val_loss: 13.0896 - val_mae: 2.8112 - val_smape: 76.2264\n",
      "Epoch 4/5\n",
      "819/819 [==============================] - 6s 8ms/step - loss: 6.2979 - mae: 1.9763 - smape: 80.9436 - val_loss: 14.6233 - val_mae: 2.9579 - val_smape: 75.5331\n",
      "Epoch 5/5\n",
      "819/819 [==============================] - 6s 8ms/step - loss: 5.5283 - mae: 1.8468 - smape: 82.0000 - val_loss: 14.5434 - val_mae: 2.9703 - val_smape: 75.3342\n"
     ]
    }
   ],
   "source": [
    "history = model.fit(train_dataset, epochs=5, validation_data = val_dataset, callbacks=callbacks)"
   ]
  },
  {
   "cell_type": "code",
   "execution_count": 32,
   "metadata": {},
   "outputs": [
    {
     "name": "stdout",
     "output_type": "stream",
     "text": [
      "Model: \"model_4\"\n",
      "__________________________________________________________________________________________________\n",
      " Layer (type)                   Output Shape         Param #     Connected to                     \n",
      "==================================================================================================\n",
      " input_6 (InputLayer)           [(None, 120, 14)]    0           []                               \n",
      "                                                                                                  \n",
      " positional_embedding_4 (Positi  (None, 120, 14)     1680        ['input_6[0][0]']                \n",
      " onalEmbedding)                                                                                   \n",
      "                                                                                                  \n",
      " multi_head_attention_3 (MultiH  (None, 120, 14)     9926        ['positional_embedding_4[0][0]', \n",
      " eadAttention)                                                    'positional_embedding_4[0][0]', \n",
      "                                                                  'positional_embedding_4[0][0]'] \n",
      "                                                                                                  \n",
      " multi_head_attention_4 (MultiH  (None, 120, 14)     9926        ['multi_head_attention_3[0][0]', \n",
      " eadAttention)                                                    'multi_head_attention_3[0][0]', \n",
      "                                                                  'multi_head_attention_3[0][0]'] \n",
      "                                                                                                  \n",
      " flatten_3 (Flatten)            (None, 1680)         0           ['multi_head_attention_4[0][0]'] \n",
      "                                                                                                  \n",
      " dense_7 (Dense)                (None, 16)           26896       ['flatten_3[0][0]']              \n",
      "                                                                                                  \n",
      " dense_8 (Dense)                (None, 1)            17          ['dense_7[0][0]']                \n",
      "                                                                                                  \n",
      "==================================================================================================\n",
      "Total params: 48,445\n",
      "Trainable params: 48,445\n",
      "Non-trainable params: 0\n",
      "__________________________________________________________________________________________________\n",
      "None\n"
     ]
    }
   ],
   "source": [
    "print(model.summary())"
   ]
  },
  {
   "cell_type": "code",
   "execution_count": 26,
   "metadata": {},
   "outputs": [
    {
     "data": {
      "text/plain": [
       "<tf.Tensor: shape=(120,), dtype=float32, numpy=\n",
       "array([-0.16764055, -0.09670158,  0.08995424, -0.33347857,  0.31676334,\n",
       "       -0.17015515, -0.1498167 ,  0.287539  ,  0.28816718,  0.22321692,\n",
       "       -0.03605475, -0.15735212,  0.1949494 , -0.44253668,  0.06794555,\n",
       "        0.07532427, -0.33978343, -0.06304431,  0.15539218,  0.2356831 ,\n",
       "        0.16678336,  0.15416257, -0.0321166 ,  0.24108188,  0.24669348,\n",
       "        0.10867202,  0.3230525 , -0.12928565, -0.2655774 ,  0.07165019,\n",
       "       -0.39238873, -0.0032194 ,  0.06168983, -0.11586176, -0.29833585,\n",
       "       -0.16786477, -0.04552752, -0.1236538 , -0.05928417,  0.14452629,\n",
       "       -0.14917527, -0.12082296, -0.19721213, -0.15511839,  0.03871487,\n",
       "       -0.029557  , -0.02053608, -0.26046857, -0.01120455,  0.01382325,\n",
       "       -0.35088176, -0.36499164, -0.4143581 , -0.35294628, -0.49539933,\n",
       "       -0.20533396, -0.49818838, -0.12047103,  0.1583898 , -0.36805862,\n",
       "       -0.35336146, -0.34597772, -0.3652212 ,  0.19483694, -0.27486354,\n",
       "       -0.3887914 , -0.47092837, -0.08526964,  0.20362438,  0.22275245,\n",
       "       -0.15005293, -0.1960274 , -0.2795918 , -0.2617363 , -0.19478486,\n",
       "        0.0421395 ,  0.06409301, -0.42056775, -0.22918771, -0.14304425,\n",
       "       -0.23290646, -0.4300332 , -0.03718834, -0.33076456, -0.19318698,\n",
       "        0.00376423, -0.34333214, -0.00389838, -0.06216535, -0.12753604,\n",
       "       -0.02637297, -0.06310561, -0.00818709,  0.02278942,  0.15941729,\n",
       "       -0.08284687,  0.07879353,  0.22735623,  0.48802269,  0.33633897,\n",
       "        0.24630688,  0.5472746 ,  0.14297244,  0.37346432,  0.16279283,\n",
       "        0.19126344,  0.21387252,  0.2899651 ,  0.13696091,  0.08608162,\n",
       "        0.18223509,  0.2407476 ,  0.1510404 ,  0.3017361 ,  0.22407962,\n",
       "        0.23728323,  0.22981031,  0.21516238,  0.20726441,  0.28646505],\n",
       "      dtype=float32)>"
      ]
     },
     "execution_count": 26,
     "metadata": {},
     "output_type": "execute_result"
    }
   ],
   "source": [
    "model.layers[1](tf.zeros([120,14],tf.float32))[:,0]"
   ]
  },
  {
   "cell_type": "code",
   "execution_count": 25,
   "metadata": {},
   "outputs": [
    {
     "data": {
      "text/plain": [
       "<tf.Tensor: shape=(120,), dtype=float32, numpy=\n",
       "array([-0.10108494, -0.21365573, -0.09131879, -0.05537372, -0.01629498,\n",
       "       -0.01339414, -0.11822281, -0.04174552, -0.4705285 ,  0.21438323,\n",
       "        0.1748464 , -0.32739544,  0.21960603, -0.0728462 ,  0.33066055,\n",
       "        0.16350396, -0.06015201, -0.02301909, -0.14282364, -0.25874615,\n",
       "       -0.11964386, -0.05253516, -0.05558702, -0.03880359, -0.1061    ,\n",
       "       -0.04317635,  0.2273505 ,  0.22787188,  0.18826689,  0.53822434,\n",
       "        0.31127968,  0.36931437,  0.31016922,  0.18049411,  0.07195791,\n",
       "        0.2173784 ,  0.30984595, -0.11857644,  0.18500587,  0.11716499,\n",
       "       -0.14615235,  0.3816058 ,  0.0720528 , -0.19492765,  0.1579155 ,\n",
       "       -0.3434261 ,  0.06141305, -0.07161469,  0.01051698, -0.072308  ,\n",
       "       -0.01263181, -0.32798696,  0.09436457,  0.03354817, -0.05803758,\n",
       "        0.05639657, -0.003421  ,  0.22831815,  0.20350689,  0.00185803,\n",
       "       -0.03837206, -0.19958259, -0.05589554, -0.01473013, -0.06181144,\n",
       "       -0.41161075,  0.1149417 ,  0.01075662,  0.10673017,  0.22097862,\n",
       "        0.37723085,  0.09450132,  0.32156348,  0.28104818,  0.0522327 ,\n",
       "        0.09425926, -0.2357578 ,  0.27286202,  0.44397908, -0.05128812,\n",
       "        0.2190058 ,  0.29049143, -0.11318336,  0.37534735,  0.22612655,\n",
       "       -0.35141385,  0.29516742, -0.167728  , -0.00178556, -0.17493469,\n",
       "       -0.31636322,  0.26696888, -0.274371  ,  0.24597332,  0.18049444,\n",
       "        0.3769934 ,  0.45094758,  0.24366978, -0.28465378,  0.1306259 ,\n",
       "       -0.00662903, -0.43910104, -0.09973396, -0.21082263, -0.07162976,\n",
       "       -0.4242993 , -0.18835029, -0.56222475, -0.16018137, -0.2892106 ,\n",
       "       -0.11124419, -0.1442563 , -0.02051933, -0.10138209,  0.10355235,\n",
       "        0.04397371,  0.15956607,  0.16653506,  0.14798598,  0.34113055],\n",
       "      dtype=float32)>"
      ]
     },
     "execution_count": 25,
     "metadata": {},
     "output_type": "execute_result"
    }
   ],
   "source": [
    "model.layers[1](tf.zeros([120,14],tf.float32))[:,1]"
   ]
  },
  {
   "cell_type": "code",
   "execution_count": 37,
   "metadata": {},
   "outputs": [
    {
     "name": "stdout",
     "output_type": "stream",
     "text": [
      "408/408 [==============================] - 2s 4ms/step\n"
     ]
    }
   ],
   "source": [
    "model = keras.models.load_model('jena_attention.keras', custom_objects={\"smape\":smape, \"PositionalEmbedding\": PositionalEmbedding})\n",
    "preds = model.predict(val_dataset)\n",
    "val_targets = []\n",
    "for _, targets in val_dataset:\n",
    "    val_targets.append(targets)\n",
    "val_targets = np.concatenate(val_targets)"
   ]
  },
  {
   "cell_type": "code",
   "execution_count": 38,
   "metadata": {},
   "outputs": [
    {
     "data": {
      "text/plain": [
       "[<matplotlib.lines.Line2D at 0x7ff2b06129e0>]"
      ]
     },
     "execution_count": 38,
     "metadata": {},
     "output_type": "execute_result"
    },
    {
     "data": {
      "image/png": "[encoded data removed]",
      "text/plain": [
       "<Figure size 432x288 with 1 Axes>"
      ]
     },
     "metadata": {
      "needs_background": "light"
     },
     "output_type": "display_data"
    }
   ],
   "source": [
    "fig, ax = plt.subplots()\n",
    "ax.plot(preds)\n",
    "ax.plot(val_targets)\n",
    "ax.plot(preds.ravel() - val_targets)"
   ]
  },
  {
   "cell_type": "code",
   "execution_count": null,
   "metadata": {},
   "outputs": [],
   "source": []
  }
 ],
 "metadata": {
  "kernelspec": {
   "display_name": "Python 3.10.4 ('deep-learning-timeseries': venv)",
   "language": "python",
   "name": "python3"
  },
  "language_info": {
   "codemirror_mode": {
    "name": "ipython",
    "version": 3
   },
   "file_extension": ".py",
   "mimetype": "text/x-python",
   "name": "python",
   "nbconvert_exporter": "python",
   "pygments_lexer": "ipython3",
   "version": "3.10.4"
  },
  "orig_nbformat": 4,
  "vscode": {
   "interpreter": {
    "hash": "4b350f85416a236949491edff0ced3000304df7e2f9bfbc6b0cedc3833a6e681"
   }
  }
 },
 "nbformat": 4,
 "nbformat_minor": 2
}
